{
  "nbformat": 4,
  "nbformat_minor": 0,
  "metadata": {
    "colab": {
      "provenance": [],
      "toc_visible": true,
      "include_colab_link": true
    },
    "kernelspec": {
      "name": "python3",
      "display_name": "Python 3"
    }
  },
  "cells": [
    {
      "cell_type": "markdown",
      "metadata": {
        "id": "view-in-github",
        "colab_type": "text"
      },
      "source": [
        "<a href=\"https://colab.research.google.com/github/bmdiogo/pa-2024-G2-Berger-Monteiro-Diogo/blob/master/1a_Introduction_to_Python.ipynb\" target=\"_parent\"><img src=\"https://colab.research.google.com/assets/colab-badge.svg\" alt=\"Open In Colab\"/></a>"
      ]
    },
    {
      "cell_type": "markdown",
      "metadata": {
        "id": "jTtpYjlARmXc"
      },
      "source": [
        "# Introducción a Python: variables, operadores básicos y bucles\n",
        "\n",
        "Asignatura: *Análisis de Datos Clínicos*\n",
        "\n",
        "Profesor: *Juan Ramón Rico* (<juanramonrico@ua.es>)"
      ]
    },
    {
      "cell_type": "markdown",
      "metadata": {
        "id": "yWZpoRHqFtnU"
      },
      "source": [
        "## Importante: antes de comenzar\n",
        "\n",
        "Para seguir este tutorial hay que acceder al menú `Archivo / Guadar una copia en Drive...`. Una vez guardada la copia en vuestro Drive ya se puede editar y modificar este tutorial introductorio.\n",
        "\n",
        "Si es la primera vez que usáis esto cuadernos de `Python` en `Google Drive` tenéis que instalar el complemento llamado `Colaboratory`. Para ello hay que situarse encima del fichero con extensión `.ipynb` (cuaderno `Python`), pulsar el botón derecho del ratón y seleccionar `Abrir con / Conectar más aplicaciones` (buscar `Colaboratory`). [Aquí teneís un ejemplo de como os quedará `Drive`](https://www.dlsi.ua.es/~juanra/UA/curso_verano_DL/images/Fist_time_Drive_and_Google_Colab.jpg)."
      ]
    },
    {
      "cell_type": "markdown",
      "metadata": {
        "id": "L006pxwmSAAA"
      },
      "source": [
        "# Preliminares\n",
        "\n",
        "<center><img src=\"https://www.dlsi.ua.es/~juanra/UA/curso_verano_DL/images/python-logo.svg\" height=\"100\"></center>"
      ]
    },
    {
      "cell_type": "markdown",
      "metadata": {
        "id": "OfST3B5zSf1V"
      },
      "source": [
        "## ¿Qué es Python?\n",
        "\n",
        "- *Python* es un lenguaje de programación interpretado y multiplataforma cuya sintaxis favorece un código legible.\n",
        "- Creado a finales de los ochenta por Guido van Rossum en el Centro para las Matemáticas y la Informática (CWI, Centrum Wiskunde & Informatica, Paises Bajos).\n",
        "- El nombre del lenguaje proviene de la afición de su creador por los humoristas británicos Monty Python.\n",
        "- Se trata de un lenguaje de programación multiparadigma: orientado a objetos, programación imperativa y programación funcional.\n",
        "- Se pueden crear módulos en C o C++ para acelerar la ejecución de los procesos.\n",
        "- Web principal <https://www.python.org/>"
      ]
    },
    {
      "cell_type": "markdown",
      "metadata": {
        "id": "2TgNufHKSn8z"
      },
      "source": [
        "## Sus principales ventajas\n",
        "\n",
        "- Python Software Foundation License (software libre y código abierto).\n",
        "- Gracias al uso de paquetes se aplica en cálculo, álgebra líneal y simbólica, mantenimiento sistemas operativos, visualización de datos, estadística, Machine Learning y Deep Learning.\n",
        "- Tiene una comunidad activa y cada vez se puede aplicar a más ámbitos.\n",
        "- Se puede ejecutar en programas o en entornos interactivos paso a paso.\n",
        "- Fácil instalación local y mantenimiento mediante gestores de paquetes como `pip` (bajo nivel) o `Anaconda`(avanzado y orientado a empresas <https://anaconda.org/>).\n",
        "- Se recomienda usar un editor sencillo y multiventana para facilitar su uso. Spyder (<https://github.com/spyder-ide/>)"
      ]
    },
    {
      "cell_type": "markdown",
      "metadata": {
        "id": "2-m1B9GOyTaK"
      },
      "source": [
        "## Paquetes básicos y avanzados"
      ]
    },
    {
      "cell_type": "markdown",
      "metadata": {
        "id": "VCLv2Te6Z_ie"
      },
      "source": [
        "### NumPy\n",
        "<center><img src=\"https://www.dlsi.ua.es/~juanra/UA/curso_verano_DL/images/numpy-logo.jpg\" height=\"100\"></center>\n",
        "\n",
        "Numpy permite el manejo de vectores de una forma fácil y eficiente, además muchos otros paquetes están construidos sobre éste.\n",
        "- Documentación <https://docs.scipy.org/doc/numpy/user/>\n",
        "- Tutorial de inicio rápido <https://docs.scipy.org/doc/numpy/user/quickstart.html>"
      ]
    },
    {
      "cell_type": "markdown",
      "metadata": {
        "id": "eZgC7VrlaFYL"
      },
      "source": [
        "### Pandas\n",
        "<center><img src=\"https://www.dlsi.ua.es/~juanra/UA/curso_verano_DL/images/pandas-logo.png\" height=\"100\"></center>\n",
        "\n",
        "Pandas es un paquete de alto rendimiento para estructuras de datos tipo tabla, análisis y visualización de datos. Está construido sobre `NumPy` y `MatPlotLib`.\n",
        "- Documentación <https://pandas.pydata.org/pandas-docs/stable/>\n",
        "- Tutorial de inicio rápido <https://pandas.pydata.org/pandas-docs/stable/10min.html>    "
      ]
    },
    {
      "cell_type": "markdown",
      "metadata": {
        "id": "pqBSo396aKO6"
      },
      "source": [
        "### Scikit-Learn\n",
        "​\n",
        "<center><img src=\"https://www.dlsi.ua.es/~juanra/UA/curso_verano_DL/images/sklearn-logo.png\" height=\"100\"></center>\n",
        "  \n",
        "Scikit-Learn es el principal paquete de aprendizaje automático (Machine Learning) de propósito general en `Python`. Tiene gran cantidad de algoritmos y módulos para el pre-procesamiento, validación cruzada y ajuste de hiper-parámetros de modelos, clasificación/regresión, etc.\n",
        "- Documentación <http://scikit-learn.org/stable/documentation.html>\n",
        "- Tutorial de inicio rápido <http://elitedatascience.com/python-machine-learning-tutorial-scikit-learn>\n",
        "Scikit-Learn\n",
        "\n",
        "Scikit-Learn es el principal paquete de aprendizaje automático (Machine Learning) de propósito general en Python. Tiene gran cantidad de algoritmos y módulos para el pre-procesamiento, validación cruzada y ajuste de hiper-parámetros de modelos, clasificación/regresión, etc.\n",
        "\n",
        "Documentación http://scikit-learn.org/stable/documentation.html\n",
        "Tutorial de inicio rápido http://elitedatascience.com/python-machine-learning-tutorial-scikit-learn"
      ]
    },
    {
      "cell_type": "markdown",
      "metadata": {
        "id": "10HR9uJeaT7A"
      },
      "source": [
        "### Matplotlib\n",
        "<center><img src=\"https://www.dlsi.ua.es/~juanra/UA/curso_verano_DL/images/matplotlib-logo.svg\" height=\"100\"></center>\n",
        "​\n",
        "MatPlotLib es un paquete flexible de visualización de gráficos. Es potente pero algo difícil para usuarios nóveles.\n",
        "- Documentación <https://matplotlib.org/contents.html>\n",
        "- Tutorial de inicio rápido <https://matplotlib.org/users/pyplot_tutorial.html>\n",
        "MatPlotLib\n",
        "\n",
        "MatPlotLib es un paquete flexible de visualización de gráficos. Es potente pero algo difícil para usuarios nóveles.\n",
        "\n",
        "Documentación https://matplotlib.org/contents.html\n",
        "Tutorial de inicio rápido https://matplotlib.org/users/pyplot_tutorial.html"
      ]
    },
    {
      "cell_type": "markdown",
      "metadata": {
        "id": "MpjndbE5SuFy"
      },
      "source": [
        "## Google Colab: Cuadernos interactivos de Python en la nube\n",
        "[Google Colab](https://colab.research.google.com/) es un proyecto creado para ayudar difundir el `aprendizaje automático` (Machine Learning) en el ámbito educativo y la investigación. Es un un `Jupyter notebook` y no requiere de ningún software en especial ya que todo está almacenado en la nube.\n",
        "\n",
        "Los notebooks de Colab se almacenan en [Google Drive](https://drive.google.com) y se pueden compartir como un documento de texto o una hoja de cálculo de Google Drive. El uso de `Colab` es libre y gratuito.\n",
        "\n",
        "Cada vez que nos conectamos a `Colab` tenemos a nuestra disposición un ordenador virtual a nuestra disposición con posibilidad de cálculos intensivos en CPU, GPU o TPU, además los paquetes más utilizados de `Python` ya están instalados por defecto, pero si necesitamos alguno adicional, o actualizar su versión también podemos hacerlo.\n",
        "\n",
        "Para más información, mirar las preguntas más frecuentes [FAQ](https://research.google.com/colaboratory/faq.html)."
      ]
    },
    {
      "cell_type": "markdown",
      "metadata": {
        "id": "XQD4xTu6n2Io"
      },
      "source": [
        "# Operaciones básicas"
      ]
    },
    {
      "cell_type": "markdown",
      "metadata": {
        "id": "pxJ41yD_S9vt"
      },
      "source": [
        "Conocer con qué versión de Python estamos trabajando"
      ]
    },
    {
      "cell_type": "code",
      "metadata": {
        "id": "22WQ8kJHmcgT",
        "outputId": "0e90fc61-8e4f-45b2-d09e-5059d0ece320",
        "colab": {
          "base_uri": "https://localhost:8080/"
        }
      },
      "source": [
        "!python -V"
      ],
      "execution_count": 1,
      "outputs": [
        {
          "output_type": "stream",
          "name": "stdout",
          "text": [
            "Python 3.11.11\n"
          ]
        }
      ]
    },
    {
      "cell_type": "markdown",
      "metadata": {
        "id": "6GU80gKfORoX"
      },
      "source": [
        "¿Qué paquetes hay instalados y cuál es su versión?"
      ]
    },
    {
      "cell_type": "code",
      "source": [],
      "metadata": {
        "id": "LRJ-cPB9S87h"
      },
      "execution_count": null,
      "outputs": []
    },
    {
      "cell_type": "code",
      "metadata": {
        "id": "Q7c0hvNcOqvH",
        "outputId": "12e38993-a908-4a42-a8c7-63a031b5e188",
        "colab": {
          "base_uri": "https://localhost:8080/"
        }
      },
      "source": [
        "!pip list"
      ],
      "execution_count": 2,
      "outputs": [
        {
          "output_type": "stream",
          "name": "stdout",
          "text": [
            "Package                            Version\n",
            "---------------------------------- -------------------\n",
            "absl-py                            1.4.0\n",
            "accelerate                         1.2.1\n",
            "aiohappyeyeballs                   2.4.4\n",
            "aiohttp                            3.11.11\n",
            "aiosignal                          1.3.2\n",
            "alabaster                          1.0.0\n",
            "albucore                           0.0.19\n",
            "albumentations                     1.4.20\n",
            "ale-py                             0.10.1\n",
            "altair                             5.5.0\n",
            "annotated-types                    0.7.0\n",
            "anyio                              3.7.1\n",
            "argon2-cffi                        23.1.0\n",
            "argon2-cffi-bindings               21.2.0\n",
            "array_record                       0.6.0\n",
            "arviz                              0.20.0\n",
            "astropy                            6.1.7\n",
            "astropy-iers-data                  0.2025.1.27.0.32.44\n",
            "astunparse                         1.6.3\n",
            "atpublic                           4.1.0\n",
            "attrs                              25.1.0\n",
            "audioread                          3.0.1\n",
            "autograd                           1.7.0\n",
            "babel                              2.16.0\n",
            "backcall                           0.2.0\n",
            "beautifulsoup4                     4.12.3\n",
            "bigframes                          1.33.0\n",
            "bigquery-magics                    0.5.0\n",
            "bleach                             6.2.0\n",
            "blinker                            1.9.0\n",
            "blis                               0.7.11\n",
            "blosc2                             3.0.0\n",
            "bokeh                              3.6.2\n",
            "Bottleneck                         1.4.2\n",
            "bqplot                             0.12.44\n",
            "branca                             0.8.1\n",
            "CacheControl                       0.14.2\n",
            "cachetools                         5.5.1\n",
            "catalogue                          2.0.10\n",
            "certifi                            2024.12.14\n",
            "cffi                               1.17.1\n",
            "chardet                            5.2.0\n",
            "charset-normalizer                 3.4.1\n",
            "chex                               0.1.88\n",
            "clarabel                           0.9.0\n",
            "click                              8.1.8\n",
            "cloudpathlib                       0.20.0\n",
            "cloudpickle                        3.1.1\n",
            "cmake                              3.31.4\n",
            "cmdstanpy                          1.2.5\n",
            "colorcet                           3.1.0\n",
            "colorlover                         0.3.0\n",
            "colour                             0.1.5\n",
            "community                          1.0.0b1\n",
            "confection                         0.1.5\n",
            "cons                               0.4.6\n",
            "contourpy                          1.3.1\n",
            "cramjam                            2.9.1\n",
            "cryptography                       43.0.3\n",
            "cuda-python                        12.6.0\n",
            "cudf-cu12                          24.12.0\n",
            "cufflinks                          0.17.3\n",
            "cupy-cuda12x                       13.3.0\n",
            "cvxopt                             1.3.2\n",
            "cvxpy                              1.6.0\n",
            "cycler                             0.12.1\n",
            "cyipopt                            1.5.0\n",
            "cymem                              2.0.11\n",
            "Cython                             3.0.11\n",
            "dask                               2024.10.0\n",
            "datascience                        0.17.6\n",
            "db-dtypes                          1.4.0\n",
            "dbus-python                        1.2.18\n",
            "debugpy                            1.8.0\n",
            "decorator                          4.4.2\n",
            "defusedxml                         0.7.1\n",
            "Deprecated                         1.2.18\n",
            "diffusers                          0.32.2\n",
            "distro                             1.9.0\n",
            "dlib                               19.24.2\n",
            "dm-tree                            0.1.8\n",
            "docker-pycreds                     0.4.0\n",
            "docstring_parser                   0.16\n",
            "docutils                           0.21.2\n",
            "dopamine_rl                        4.1.2\n",
            "duckdb                             1.1.3\n",
            "earthengine-api                    1.4.6\n",
            "easydict                           1.13\n",
            "editdistance                       0.8.1\n",
            "eerepr                             0.1.0\n",
            "einops                             0.8.0\n",
            "en-core-web-sm                     3.7.1\n",
            "entrypoints                        0.4\n",
            "et_xmlfile                         2.0.0\n",
            "etils                              1.11.0\n",
            "etuples                            0.3.9\n",
            "eval_type_backport                 0.2.2\n",
            "Farama-Notifications               0.0.4\n",
            "fastai                             2.7.18\n",
            "fastcore                           1.7.28\n",
            "fastdownload                       0.0.7\n",
            "fastjsonschema                     2.21.1\n",
            "fastprogress                       1.0.3\n",
            "fastrlock                          0.8.3\n",
            "filelock                           3.17.0\n",
            "firebase-admin                     6.6.0\n",
            "Flask                              3.1.0\n",
            "flatbuffers                        25.1.24\n",
            "flax                               0.10.2\n",
            "folium                             0.19.4\n",
            "fonttools                          4.55.6\n",
            "frozendict                         2.4.6\n",
            "frozenlist                         1.5.0\n",
            "fsspec                             2024.10.0\n",
            "future                             1.0.0\n",
            "gast                               0.6.0\n",
            "gcsfs                              2024.10.0\n",
            "GDAL                               3.6.4\n",
            "gdown                              5.2.0\n",
            "geemap                             0.35.1\n",
            "gensim                             4.3.3\n",
            "geocoder                           1.38.1\n",
            "geographiclib                      2.0\n",
            "geopandas                          1.0.1\n",
            "geopy                              2.4.1\n",
            "gin-config                         0.5.0\n",
            "gitdb                              4.0.12\n",
            "GitPython                          3.1.44\n",
            "glob2                              0.7\n",
            "google                             2.0.3\n",
            "google-ai-generativelanguage       0.6.15\n",
            "google-api-core                    2.19.2\n",
            "google-api-python-client           2.155.0\n",
            "google-auth                        2.27.0\n",
            "google-auth-httplib2               0.2.0\n",
            "google-auth-oauthlib               1.2.1\n",
            "google-cloud-aiplatform            1.74.0\n",
            "google-cloud-bigquery              3.25.0\n",
            "google-cloud-bigquery-connection   1.17.0\n",
            "google-cloud-bigquery-storage      2.27.0\n",
            "google-cloud-bigtable              2.28.1\n",
            "google-cloud-core                  2.4.1\n",
            "google-cloud-datastore             2.20.2\n",
            "google-cloud-firestore             2.19.0\n",
            "google-cloud-functions             1.19.0\n",
            "google-cloud-iam                   2.17.0\n",
            "google-cloud-language              2.16.0\n",
            "google-cloud-pubsub                2.25.0\n",
            "google-cloud-resource-manager      1.14.0\n",
            "google-cloud-spanner               3.51.0\n",
            "google-cloud-storage               2.19.0\n",
            "google-cloud-translate             3.19.0\n",
            "google-colab                       1.0.0\n",
            "google-crc32c                      1.6.0\n",
            "google-genai                       0.3.0\n",
            "google-generativeai                0.8.4\n",
            "google-pasta                       0.2.0\n",
            "google-resumable-media             2.7.2\n",
            "googleapis-common-protos           1.66.0\n",
            "googledrivedownloader              0.4\n",
            "graphviz                           0.20.3\n",
            "greenlet                           3.1.1\n",
            "grpc-google-iam-v1                 0.14.0\n",
            "grpc-interceptor                   0.15.4\n",
            "grpcio                             1.70.0\n",
            "grpcio-status                      1.62.3\n",
            "gspread                            6.1.4\n",
            "gspread-dataframe                  4.0.0\n",
            "gym                                0.25.2\n",
            "gym-notices                        0.0.8\n",
            "gymnasium                          1.0.0\n",
            "h11                                0.14.0\n",
            "h5netcdf                           1.5.0\n",
            "h5py                               3.12.1\n",
            "highspy                            1.9.0\n",
            "holidays                           0.65\n",
            "holoviews                          1.20.0\n",
            "html5lib                           1.1\n",
            "httpcore                           1.0.7\n",
            "httpimport                         1.4.0\n",
            "httplib2                           0.22.0\n",
            "httpx                              0.28.1\n",
            "huggingface-hub                    0.27.1\n",
            "humanize                           4.11.0\n",
            "hyperopt                           0.2.7\n",
            "ibis-framework                     9.2.0\n",
            "idna                               3.10\n",
            "imageio                            2.36.1\n",
            "imageio-ffmpeg                     0.6.0\n",
            "imagesize                          1.4.1\n",
            "imbalanced-learn                   0.13.0\n",
            "imgaug                             0.4.0\n",
            "immutabledict                      4.2.1\n",
            "importlib_metadata                 8.6.1\n",
            "importlib_resources                6.5.2\n",
            "imutils                            0.5.4\n",
            "inflect                            7.5.0\n",
            "iniconfig                          2.0.0\n",
            "intel-cmplr-lib-ur                 2025.0.4\n",
            "intel-openmp                       2025.0.4\n",
            "ipyevents                          2.0.2\n",
            "ipyfilechooser                     0.6.0\n",
            "ipykernel                          5.5.6\n",
            "ipyleaflet                         0.19.2\n",
            "ipyparallel                        8.8.0\n",
            "ipython                            7.34.0\n",
            "ipython-genutils                   0.2.0\n",
            "ipython-sql                        0.5.0\n",
            "ipytree                            0.2.2\n",
            "ipywidgets                         7.7.1\n",
            "itsdangerous                       2.2.0\n",
            "jax                                0.4.33\n",
            "jax-cuda12-pjrt                    0.4.33\n",
            "jax-cuda12-plugin                  0.4.33\n",
            "jaxlib                             0.4.33\n",
            "jeepney                            0.7.1\n",
            "jellyfish                          1.1.0\n",
            "jieba                              0.42.1\n",
            "Jinja2                             3.1.5\n",
            "jiter                              0.8.2\n",
            "joblib                             1.4.2\n",
            "jsonpatch                          1.33\n",
            "jsonpickle                         4.0.1\n",
            "jsonpointer                        3.0.0\n",
            "jsonschema                         4.23.0\n",
            "jsonschema-specifications          2024.10.1\n",
            "jupyter-client                     6.1.12\n",
            "jupyter-console                    6.1.0\n",
            "jupyter_core                       5.7.2\n",
            "jupyter-leaflet                    0.19.2\n",
            "jupyter-server                     1.24.0\n",
            "jupyterlab_pygments                0.3.0\n",
            "jupyterlab_widgets                 3.0.13\n",
            "kaggle                             1.6.17\n",
            "kagglehub                          0.3.6\n",
            "keras                              3.8.0\n",
            "keyring                            23.5.0\n",
            "kiwisolver                         1.4.8\n",
            "langchain                          0.3.15\n",
            "langchain-core                     0.3.31\n",
            "langchain-text-splitters           0.3.5\n",
            "langcodes                          3.5.0\n",
            "langsmith                          0.3.1\n",
            "language_data                      1.3.0\n",
            "launchpadlib                       1.10.16\n",
            "lazr.restfulclient                 0.14.4\n",
            "lazr.uri                           1.0.6\n",
            "lazy_loader                        0.4\n",
            "libclang                           18.1.1\n",
            "libcudf-cu12                       24.12.0\n",
            "libkvikio-cu12                     24.12.1\n",
            "librosa                            0.10.2.post1\n",
            "lightgbm                           4.5.0\n",
            "linkify-it-py                      2.0.3\n",
            "llvmlite                           0.43.0\n",
            "locket                             1.0.0\n",
            "logical-unification                0.4.6\n",
            "lxml                               5.3.0\n",
            "marisa-trie                        1.2.1\n",
            "Markdown                           3.7\n",
            "markdown-it-py                     3.0.0\n",
            "MarkupSafe                         3.0.2\n",
            "matplotlib                         3.10.0\n",
            "matplotlib-inline                  0.1.7\n",
            "matplotlib-venn                    1.1.1\n",
            "mdit-py-plugins                    0.4.2\n",
            "mdurl                              0.1.2\n",
            "miniKanren                         1.0.3\n",
            "missingno                          0.5.2\n",
            "mistune                            3.1.0\n",
            "mizani                             0.13.1\n",
            "mkl                                2025.0.1\n",
            "ml-dtypes                          0.4.1\n",
            "mlxtend                            0.23.4\n",
            "more-itertools                     10.5.0\n",
            "moviepy                            1.0.3\n",
            "mpmath                             1.3.0\n",
            "msgpack                            1.1.0\n",
            "multidict                          6.1.0\n",
            "multipledispatch                   1.0.0\n",
            "multitasking                       0.0.11\n",
            "murmurhash                         1.0.12\n",
            "music21                            9.3.0\n",
            "namex                              0.0.8\n",
            "narwhals                           1.24.0\n",
            "natsort                            8.4.0\n",
            "nbclassic                          1.2.0\n",
            "nbclient                           0.10.2\n",
            "nbconvert                          7.16.5\n",
            "nbformat                           5.10.4\n",
            "ndindex                            1.9.2\n",
            "nest-asyncio                       1.6.0\n",
            "networkx                           3.4.2\n",
            "nibabel                            5.3.2\n",
            "nltk                               3.9.1\n",
            "notebook                           6.5.5\n",
            "notebook_shim                      0.2.4\n",
            "numba                              0.60.0\n",
            "numba-cuda                         0.0.17.1\n",
            "numexpr                            2.10.2\n",
            "numpy                              1.26.4\n",
            "nvidia-cublas-cu12                 12.5.3.2\n",
            "nvidia-cuda-cupti-cu12             12.5.82\n",
            "nvidia-cuda-nvcc-cu12              12.5.82\n",
            "nvidia-cuda-nvrtc-cu12             12.5.82\n",
            "nvidia-cuda-runtime-cu12           12.5.82\n",
            "nvidia-cudnn-cu12                  9.3.0.75\n",
            "nvidia-cufft-cu12                  11.2.3.61\n",
            "nvidia-curand-cu12                 10.3.6.82\n",
            "nvidia-cusolver-cu12               11.6.3.83\n",
            "nvidia-cusparse-cu12               12.5.1.3\n",
            "nvidia-nccl-cu12                   2.21.5\n",
            "nvidia-nvcomp-cu12                 4.1.0.6\n",
            "nvidia-nvjitlink-cu12              12.5.82\n",
            "nvidia-nvtx-cu12                   12.4.127\n",
            "nvtx                               0.2.10\n",
            "nx-cugraph-cu12                    24.12.0\n",
            "oauth2client                       4.1.3\n",
            "oauthlib                           3.2.2\n",
            "openai                             1.59.9\n",
            "opencv-contrib-python              4.10.0.84\n",
            "opencv-python                      4.10.0.84\n",
            "opencv-python-headless             4.11.0.86\n",
            "openpyxl                           3.1.5\n",
            "opentelemetry-api                  1.16.0\n",
            "opentelemetry-sdk                  1.16.0\n",
            "opentelemetry-semantic-conventions 0.37b0\n",
            "opt_einsum                         3.4.0\n",
            "optax                              0.2.4\n",
            "optree                             0.14.0\n",
            "orbax-checkpoint                   0.6.4\n",
            "orjson                             3.10.15\n",
            "osqp                               0.6.7.post3\n",
            "packaging                          24.2\n",
            "pandas                             2.2.2\n",
            "pandas-datareader                  0.10.0\n",
            "pandas-gbq                         0.26.1\n",
            "pandas-stubs                       2.2.2.240909\n",
            "pandocfilters                      1.5.1\n",
            "panel                              1.6.0\n",
            "param                              2.2.0\n",
            "parso                              0.8.4\n",
            "parsy                              2.1\n",
            "partd                              1.4.2\n",
            "pathlib                            1.0.1\n",
            "patsy                              1.0.1\n",
            "peewee                             3.17.8\n",
            "peft                               0.14.0\n",
            "pexpect                            4.9.0\n",
            "pickleshare                        0.7.5\n",
            "pillow                             11.1.0\n",
            "pip                                24.1.2\n",
            "platformdirs                       4.3.6\n",
            "plotly                             5.24.1\n",
            "plotnine                           0.14.5\n",
            "pluggy                             1.5.0\n",
            "ply                                3.11\n",
            "polars                             1.9.0\n",
            "pooch                              1.8.2\n",
            "portpicker                         1.5.2\n",
            "preshed                            3.0.9\n",
            "prettytable                        3.13.0\n",
            "proglog                            0.1.10\n",
            "progressbar2                       4.5.0\n",
            "prometheus_client                  0.21.1\n",
            "promise                            2.3\n",
            "prompt_toolkit                     3.0.50\n",
            "propcache                          0.2.1\n",
            "prophet                            1.1.6\n",
            "proto-plus                         1.25.0\n",
            "protobuf                           4.25.6\n",
            "psutil                             5.9.5\n",
            "psycopg2                           2.9.10\n",
            "ptyprocess                         0.7.0\n",
            "py-cpuinfo                         9.0.0\n",
            "py4j                               0.10.9.7\n",
            "pyarrow                            17.0.0\n",
            "pyasn1                             0.6.1\n",
            "pyasn1_modules                     0.4.1\n",
            "pycocotools                        2.0.8\n",
            "pycparser                          2.22\n",
            "pydantic                           2.10.6\n",
            "pydantic_core                      2.27.2\n",
            "pydata-google-auth                 1.9.1\n",
            "pydot                              3.0.4\n",
            "pydotplus                          2.0.2\n",
            "PyDrive                            1.3.1\n",
            "PyDrive2                           1.21.3\n",
            "pyerfa                             2.0.1.5\n",
            "pygame                             2.6.1\n",
            "pygit2                             1.16.0\n",
            "Pygments                           2.18.0\n",
            "PyGObject                          3.42.1\n",
            "PyJWT                              2.10.1\n",
            "pylibcudf-cu12                     24.12.0\n",
            "pylibcugraph-cu12                  24.12.0\n",
            "pylibraft-cu12                     24.12.0\n",
            "pymc                               5.19.1\n",
            "pymystem3                          0.2.0\n",
            "pynvjitlink-cu12                   0.4.0\n",
            "pyogrio                            0.10.0\n",
            "Pyomo                              6.8.2\n",
            "PyOpenGL                           3.1.9\n",
            "pyOpenSSL                          24.2.1\n",
            "pyparsing                          3.2.1\n",
            "pyperclip                          1.9.0\n",
            "pyproj                             3.7.0\n",
            "pyshp                              2.3.1\n",
            "PySocks                            1.7.1\n",
            "pyspark                            3.5.4\n",
            "pytensor                           2.26.4\n",
            "pytest                             8.3.4\n",
            "python-apt                         0.0.0\n",
            "python-box                         7.3.2\n",
            "python-dateutil                    2.8.2\n",
            "python-louvain                     0.16\n",
            "python-slugify                     8.0.4\n",
            "python-snappy                      0.7.3\n",
            "python-utils                       3.9.1\n",
            "pytz                               2024.2\n",
            "pyviz_comms                        3.0.4\n",
            "PyYAML                             6.0.2\n",
            "pyzmq                              24.0.1\n",
            "qdldl                              0.1.7.post5\n",
            "ratelim                            0.1.6\n",
            "referencing                        0.36.2\n",
            "regex                              2024.11.6\n",
            "requests                           2.32.3\n",
            "requests-oauthlib                  1.3.1\n",
            "requests-toolbelt                  1.0.0\n",
            "requirements-parser                0.9.0\n",
            "rich                               13.9.4\n",
            "rmm-cu12                           24.12.1\n",
            "rpds-py                            0.22.3\n",
            "rpy2                               3.4.2\n",
            "rsa                                4.9\n",
            "safetensors                        0.5.2\n",
            "scikit-image                       0.25.1\n",
            "scikit-learn                       1.6.1\n",
            "scipy                              1.13.1\n",
            "scooby                             0.10.0\n",
            "scs                                3.2.7.post2\n",
            "seaborn                            0.13.2\n",
            "SecretStorage                      3.3.1\n",
            "Send2Trash                         1.8.3\n",
            "sentence-transformers              3.3.1\n",
            "sentencepiece                      0.2.0\n",
            "sentry-sdk                         2.20.0\n",
            "setproctitle                       1.3.4\n",
            "setuptools                         75.1.0\n",
            "shap                               0.46.0\n",
            "shapely                            2.0.6\n",
            "shellingham                        1.5.4\n",
            "simple-parsing                     0.1.7\n",
            "six                                1.17.0\n",
            "sklearn-compat                     0.1.3\n",
            "sklearn-pandas                     2.2.0\n",
            "slicer                             0.0.8\n",
            "smart-open                         7.1.0\n",
            "smmap                              5.0.2\n",
            "sniffio                            1.3.1\n",
            "snowballstemmer                    2.2.0\n",
            "soundfile                          0.13.1\n",
            "soupsieve                          2.6\n",
            "soxr                               0.5.0.post1\n",
            "spacy                              3.7.5\n",
            "spacy-legacy                       3.0.12\n",
            "spacy-loggers                      1.0.5\n",
            "spanner-graph-notebook             1.0.9\n",
            "Sphinx                             8.1.3\n",
            "sphinxcontrib-applehelp            2.0.0\n",
            "sphinxcontrib-devhelp              2.0.0\n",
            "sphinxcontrib-htmlhelp             2.1.0\n",
            "sphinxcontrib-jsmath               1.0.1\n",
            "sphinxcontrib-qthelp               2.0.0\n",
            "sphinxcontrib-serializinghtml      2.0.0\n",
            "SQLAlchemy                         2.0.37\n",
            "sqlglot                            25.6.1\n",
            "sqlparse                           0.5.3\n",
            "srsly                              2.5.1\n",
            "stanio                             0.5.1\n",
            "statsmodels                        0.14.4\n",
            "stringzilla                        3.11.3\n",
            "sympy                              1.13.1\n",
            "tables                             3.10.2\n",
            "tabulate                           0.9.0\n",
            "tbb                                2022.0.0\n",
            "tcmlib                             1.2.0\n",
            "tenacity                           9.0.0\n",
            "tensorboard                        2.18.0\n",
            "tensorboard-data-server            0.7.2\n",
            "tensorflow                         2.18.0\n",
            "tensorflow-datasets                4.9.7\n",
            "tensorflow-hub                     0.16.1\n",
            "tensorflow-io-gcs-filesystem       0.37.1\n",
            "tensorflow-metadata                1.16.1\n",
            "tensorflow-probability             0.24.0\n",
            "tensorstore                        0.1.71\n",
            "termcolor                          2.5.0\n",
            "terminado                          0.18.1\n",
            "text-unidecode                     1.3\n",
            "textblob                           0.17.1\n",
            "tf_keras                           2.18.0\n",
            "tf-slim                            1.1.0\n",
            "thinc                              8.2.5\n",
            "threadpoolctl                      3.5.0\n",
            "tifffile                           2025.1.10\n",
            "timm                               1.0.14\n",
            "tinycss2                           1.4.0\n",
            "tokenizers                         0.21.0\n",
            "toml                               0.10.2\n",
            "toolz                              0.12.1\n",
            "torch                              2.5.1+cu124\n",
            "torchaudio                         2.5.1+cu124\n",
            "torchsummary                       1.5.1\n",
            "torchvision                        0.20.1+cu124\n",
            "tornado                            6.3.3\n",
            "tqdm                               4.67.1\n",
            "traitlets                          5.7.1\n",
            "traittypes                         0.2.1\n",
            "transformers                       4.47.1\n",
            "triton                             3.1.0\n",
            "tweepy                             4.14.0\n",
            "typeguard                          4.4.1\n",
            "typer                              0.15.1\n",
            "types-pytz                         2024.2.0.20241221\n",
            "types-setuptools                   75.8.0.20250110\n",
            "typing_extensions                  4.12.2\n",
            "tzdata                             2025.1\n",
            "tzlocal                            5.2\n",
            "uc-micro-py                        1.0.3\n",
            "umf                                0.9.1\n",
            "uritemplate                        4.1.1\n",
            "urllib3                            2.3.0\n",
            "vega-datasets                      0.9.0\n",
            "wadllib                            1.3.6\n",
            "wandb                              0.19.4\n",
            "wasabi                             1.1.3\n",
            "wcwidth                            0.2.13\n",
            "weasel                             0.4.1\n",
            "webcolors                          24.11.1\n",
            "webencodings                       0.5.1\n",
            "websocket-client                   1.8.0\n",
            "websockets                         14.2\n",
            "Werkzeug                           3.1.3\n",
            "wheel                              0.45.1\n",
            "widgetsnbextension                 3.6.10\n",
            "wordcloud                          1.9.4\n",
            "wrapt                              1.17.2\n",
            "xarray                             2025.1.1\n",
            "xarray-einstats                    0.8.0\n",
            "xgboost                            2.1.3\n",
            "xlrd                               2.0.1\n",
            "xyzservices                        2025.1.0\n",
            "yarl                               1.18.3\n",
            "yellowbrick                        1.5\n",
            "yfinance                           0.2.52\n",
            "zipp                               3.21.0\n",
            "zstandard                          0.23.0\n"
          ]
        }
      ]
    },
    {
      "cell_type": "markdown",
      "metadata": {
        "id": "tX2nRN1XPx4U"
      },
      "source": [
        "Descripción de un paquete conocido ej. `Pandas`"
      ]
    },
    {
      "cell_type": "code",
      "metadata": {
        "id": "hOHOPSBpO_hM",
        "outputId": "d1b03467-deca-478d-a6f6-d6d275a2deee",
        "colab": {
          "base_uri": "https://localhost:8080/"
        }
      },
      "source": [
        "!pip show pandas"
      ],
      "execution_count": 3,
      "outputs": [
        {
          "output_type": "stream",
          "name": "stdout",
          "text": [
            "Name: pandas\n",
            "Version: 2.2.2\n",
            "Summary: Powerful data structures for data analysis, time series, and statistics\n",
            "Home-page: https://pandas.pydata.org\n",
            "Author: \n",
            "Author-email: The Pandas Development Team <pandas-dev@python.org>\n",
            "License: BSD 3-Clause License\n",
            "\n",
            "Copyright (c) 2008-2011, AQR Capital Management, LLC, Lambda Foundry, Inc. and PyData Development Team\n",
            "All rights reserved.\n",
            "\n",
            "Copyright (c) 2011-2023, Open source contributors.\n",
            "\n",
            "Redistribution and use in source and binary forms, with or without\n",
            "modification, are permitted provided that the following conditions are met:\n",
            "\n",
            "* Redistributions of source code must retain the above copyright notice, this\n",
            "  list of conditions and the following disclaimer.\n",
            "\n",
            "* Redistributions in binary form must reproduce the above copyright notice,\n",
            "  this list of conditions and the following disclaimer in the documentation\n",
            "  and/or other materials provided with the distribution.\n",
            "\n",
            "* Neither the name of the copyright holder nor the names of its\n",
            "  contributors may be used to endorse or promote products derived from\n",
            "  this software without specific prior written permission.\n",
            "\n",
            "THIS SOFTWARE IS PROVIDED BY THE COPYRIGHT HOLDERS AND CONTRIBUTORS \"AS IS\"\n",
            "AND ANY EXPRESS OR IMPLIED WARRANTIES, INCLUDING, BUT NOT LIMITED TO, THE\n",
            "IMPLIED WARRANTIES OF MERCHANTABILITY AND FITNESS FOR A PARTICULAR PURPOSE ARE\n",
            "DISCLAIMED. IN NO EVENT SHALL THE COPYRIGHT HOLDER OR CONTRIBUTORS BE LIABLE\n",
            "FOR ANY DIRECT, INDIRECT, INCIDENTAL, SPECIAL, EXEMPLARY, OR CONSEQUENTIAL\n",
            "DAMAGES (INCLUDING, BUT NOT LIMITED TO, PROCUREMENT OF SUBSTITUTE GOODS OR\n",
            "SERVICES; LOSS OF USE, DATA, OR PROFITS; OR BUSINESS INTERRUPTION) HOWEVER\n",
            "CAUSED AND ON ANY THEORY OF LIABILITY, WHETHER IN CONTRACT, STRICT LIABILITY,\n",
            "OR TORT (INCLUDING NEGLIGENCE OR OTHERWISE) ARISING IN ANY WAY OUT OF THE USE\n",
            "OF THIS SOFTWARE, EVEN IF ADVISED OF THE POSSIBILITY OF SUCH DAMAGE.\n",
            "Location: /usr/local/lib/python3.11/dist-packages\n",
            "Requires: numpy, python-dateutil, pytz, tzdata\n",
            "Required-by: arviz, bigframes, bigquery-magics, bokeh, bqplot, cmdstanpy, cudf-cu12, cufflinks, datascience, db-dtypes, dopamine_rl, fastai, geemap, geopandas, google-colab, gspread-dataframe, holoviews, ibis-framework, mizani, mlxtend, pandas-datareader, pandas-gbq, panel, plotnine, prophet, pymc, seaborn, shap, sklearn-pandas, statsmodels, vega-datasets, xarray, yfinance\n"
          ]
        }
      ]
    },
    {
      "cell_type": "markdown",
      "metadata": {
        "id": "BRosXklNQDdw"
      },
      "source": [
        "**Ejercicio:**\n",
        "\n",
        "- ¿Qué versión del paquete de operaciones con vectores `Numpy` está instalada?\n",
        "- ¿Y del paquete de visualización de gráficos `Matplotlib`?"
      ]
    },
    {
      "cell_type": "markdown",
      "metadata": {
        "id": "4W_MIlu4aFAR"
      },
      "source": [
        "## Suma y resta\n",
        "\n",
        "Vamos a practicar como si fuera una calculadora:\n",
        "\n",
        "```\n",
        "2+2\n",
        "2+float('inf')\n",
        "float('inf')+float('inf')\n",
        "2-2\n",
        "2-float('inf')\n",
        "float('inf')-float('inf')\n",
        "```"
      ]
    },
    {
      "cell_type": "code",
      "metadata": {
        "id": "FdMtfDWNn2Iq",
        "outputId": "06bb5eaa-8fea-4502-d676-cc410d37d8c2",
        "colab": {
          "base_uri": "https://localhost:8080/"
        }
      },
      "source": [
        "float('inf')-float('inf')"
      ],
      "execution_count": null,
      "outputs": [
        {
          "output_type": "execute_result",
          "data": {
            "text/plain": [
              "nan"
            ]
          },
          "metadata": {},
          "execution_count": 7
        }
      ]
    },
    {
      "cell_type": "markdown",
      "metadata": {
        "id": "6M8TVi-gn2I-"
      },
      "source": [
        "## Multiplicación y división\n",
        "\n",
        "Probad las siguientes operaciones y revisad sus resultados\n",
        "\n",
        "```\n",
        "2*2\n",
        "2*0\n",
        "2*float('inf')\n",
        "float('inf')*float('inf')\n",
        "float('inf')*0\n",
        "\n",
        "0/0\n",
        "0/2\n",
        "2/0\n",
        "float('inf')/float('inf')\n",
        "float('inf')/0\n",
        "```\n"
      ]
    },
    {
      "cell_type": "code",
      "metadata": {
        "id": "LBsdEYPfn2JG",
        "outputId": "55eac56e-dee6-4409-c9d1-50a93b47a587",
        "colab": {
          "base_uri": "https://localhost:8080/"
        }
      },
      "source": [
        "2*2"
      ],
      "execution_count": null,
      "outputs": [
        {
          "output_type": "execute_result",
          "data": {
            "text/plain": [
              "4"
            ]
          },
          "metadata": {},
          "execution_count": 6
        }
      ]
    },
    {
      "cell_type": "markdown",
      "metadata": {
        "id": "ZTfU0B6Gn2JS"
      },
      "source": [
        "## Otras operaciones básicas\n",
        "\n",
        "### División entera y módulo\n",
        "\n",
        "`5 // 2`\n",
        "\n",
        "`5 % 2`\n",
        "\n",
        "### Exponentes\n",
        "\n",
        "`2**3`\n"
      ]
    },
    {
      "cell_type": "code",
      "metadata": {
        "id": "P7ZfhyTun2JW",
        "colab": {
          "base_uri": "https://localhost:8080/"
        },
        "outputId": "38a21f48-03a4-496d-94de-5aad86388426"
      },
      "source": [
        "5//2"
      ],
      "execution_count": null,
      "outputs": [
        {
          "output_type": "execute_result",
          "data": {
            "text/plain": [
              "2"
            ]
          },
          "metadata": {},
          "execution_count": 1
        }
      ]
    },
    {
      "cell_type": "markdown",
      "metadata": {
        "id": "BrD_UiUFn2Jm"
      },
      "source": [
        "## Características especiales de Python\n",
        "\n",
        "- *Python* al igual que *R* trabaja con números **nan** (Not a Number) no definidos o valores no disponibles **NA** (Not Available) en la operaciones y en sus **funciones**\n",
        "\n",
        "- La **mayoría** de lenguajes de programación habituales se detendrían y mostrarían un mensaje de **error**.\n",
        "\n",
        "`sum([2,3])\n",
        "sum(c(2,float('nan'))\n",
        "`\n",
        "\n",
        "- En apartados posteriores veremos como se trata la ausencia de datos.\n"
      ]
    },
    {
      "cell_type": "markdown",
      "metadata": {
        "id": "cDKn1foxn2Jq"
      },
      "source": [
        "# Variables, tipos básicos, condiciones y bucles"
      ]
    },
    {
      "cell_type": "markdown",
      "metadata": {
        "id": "pUqAZWKfoVdY"
      },
      "source": [
        "## Números\n",
        "\n",
        "- Se puede usar directamente como una **calculadora**.\n",
        "- Los **valores** o el **resultado** de las operaciones se puede guardar en **variables**."
      ]
    },
    {
      "cell_type": "code",
      "metadata": {
        "id": "T0nA_uUNn2Js"
      },
      "source": [
        "a = 2*4+7-4\n",
        "print(f'a: {a}')\n",
        "\n",
        "b = 5/2+a\n",
        "print(f'b: {b}')\n",
        "\n",
        "c = 5//2+a\n",
        "print(f'c: {c}')\n"
      ],
      "execution_count": null,
      "outputs": []
    },
    {
      "cell_type": "markdown",
      "metadata": {
        "id": "ov6YMSu7fAQP"
      },
      "source": [
        "Para conocer el tipo de una expresión o variable se utiliza la instrucción `type`"
      ]
    },
    {
      "cell_type": "code",
      "metadata": {
        "id": "BO_Mr8rVfIYx"
      },
      "source": [
        "type(a)"
      ],
      "execution_count": null,
      "outputs": []
    },
    {
      "cell_type": "markdown",
      "metadata": {
        "id": "nteHGMs_lS2e"
      },
      "source": [
        "## Caracteres"
      ]
    },
    {
      "cell_type": "code",
      "metadata": {
        "id": "9wSx5vbilWMI"
      },
      "source": [
        "a = 'Ejemplo 1 con una comilla'\n",
        "print(a)\n",
        "\n",
        "b = \"Ejemplo 2 con doble comilla\"\n",
        "print(b)\n",
        "print(a)\n"
      ],
      "execution_count": null,
      "outputs": []
    },
    {
      "cell_type": "markdown",
      "metadata": {
        "id": "IEf3gANvm5Ay"
      },
      "source": [
        "## Listas"
      ]
    },
    {
      "cell_type": "code",
      "metadata": {
        "id": "AQk4pqX9m66a"
      },
      "source": [
        "list = ['uno','dos','tres']\n",
        "\n",
        "for i in list:\n",
        "  print(i)\n",
        "\n",
        "list.remove('uno')\n",
        "list.append('cuatro')\n",
        "\n",
        "for i in list:\n",
        "  print('new',i)"
      ],
      "execution_count": null,
      "outputs": []
    },
    {
      "cell_type": "code",
      "metadata": {
        "id": "tx9dy1ANez2M"
      },
      "source": [
        "type([[1,2],[1,2]])"
      ],
      "execution_count": null,
      "outputs": []
    },
    {
      "cell_type": "markdown",
      "metadata": {
        "id": "iz7t51FFpyH2"
      },
      "source": [
        "## Conjuntos"
      ]
    },
    {
      "cell_type": "code",
      "metadata": {
        "id": "yatkxiVXpz-B",
        "colab": {
          "base_uri": "https://localhost:8080/"
        },
        "outputId": "ee758643-f88a-4e0d-8995-affa82c9ec62"
      },
      "source": [
        "lista = ['uno','dos','tres','tres']\n",
        "conjunto = set(lista)\n",
        "print(conjunto)\n",
        "\n",
        "print(f'\\'uno\\' pertenece al conjunto {\"uno\" in conjunto}')\n",
        "print(f'\\'cuatro\\' pertenece al conjunto {\"cuatro\" in conjunto}')"
      ],
      "execution_count": null,
      "outputs": [
        {
          "output_type": "stream",
          "name": "stdout",
          "text": [
            "{'uno', 'tres', 'dos'}\n",
            "'uno' pertenece al conjunto True\n",
            "'cuatro' pertenece al conjunto False\n"
          ]
        }
      ]
    },
    {
      "cell_type": "markdown",
      "metadata": {
        "id": "O6e0-LSkllxs"
      },
      "source": [
        "## Diccionarios"
      ]
    },
    {
      "cell_type": "code",
      "metadata": {
        "id": "tHvdPzXsloym"
      },
      "source": [
        "str2num = {'uno':1, 'dos':2, 'tres':3}\n",
        "num2str = { 1:'uno', 2:'dos', 3:'tres'}\n",
        "\n",
        "print(f'uno -> {str2num[\"uno\"]}')\n",
        "print(f'1 -> {num2str[1]}')\n",
        "\n",
        "print('Todos los items de str2num')\n",
        "for key, value in str2num.items():\n",
        "  print(f'\\t{key} -> {value}')"
      ],
      "execution_count": null,
      "outputs": []
    },
    {
      "cell_type": "code",
      "metadata": {
        "id": "Dqzan6zrrxxv"
      },
      "source": [
        "# Si accedemos a una clave que no existe usando con [] se produce un error\n",
        "\n",
        "try:\n",
        "  print(str2num['cuatro'])\n",
        "except KeyError:\n",
        "  print('La clave no existe')"
      ],
      "execution_count": null,
      "outputs": []
    },
    {
      "cell_type": "code",
      "source": [
        "# Si queremos un acceso seguro al diccionario existe el método get()\n",
        "\n",
        "print(str2num.get('uno'))\n",
        "print(str2num.get('cuatro'))"
      ],
      "metadata": {
        "id": "I9hhMDpsSu82"
      },
      "execution_count": null,
      "outputs": []
    },
    {
      "cell_type": "markdown",
      "metadata": {
        "id": "Ks9RI5pGkHpt"
      },
      "source": [
        "## Condiciones"
      ]
    },
    {
      "cell_type": "code",
      "metadata": {
        "id": "2ZMRddW5kKb0",
        "colab": {
          "base_uri": "https://localhost:8080/"
        },
        "outputId": "c3b064bf-8b35-471f-8231-c6200519bbd2"
      },
      "source": [
        "a = 1\n",
        "if a>1:\n",
        "  print('La variable \"a\" mayor que 1')\n",
        "else:\n",
        "  print('La variable \"a\" NO es mayor que 1')"
      ],
      "execution_count": null,
      "outputs": [
        {
          "output_type": "stream",
          "name": "stdout",
          "text": [
            "La variable \"a\" NO es mayor que 1\n"
          ]
        }
      ]
    },
    {
      "cell_type": "code",
      "metadata": {
        "id": "DgmTLP-ZklFA",
        "colab": {
          "base_uri": "https://localhost:8080/"
        },
        "outputId": "8e1b9bfc-1fd0-48e9-8e88-5236fe670ee8"
      },
      "source": [
        "a = 1\n",
        "b = 2\n",
        "if a>1 and b>1:\n",
        "  print(f'{a} y {b} son mayores que 1')\n",
        "else:\n",
        "  print(f'{a} y {b} NO son mayores que 1')"
      ],
      "execution_count": null,
      "outputs": [
        {
          "output_type": "stream",
          "name": "stdout",
          "text": [
            "1 y 2 NO son mayores que 1\n"
          ]
        }
      ]
    },
    {
      "cell_type": "code",
      "metadata": {
        "id": "p7MVfc11lBCB",
        "colab": {
          "base_uri": "https://localhost:8080/"
        },
        "outputId": "9af0f6ad-e50a-4352-b7c2-37ef7911c8ae"
      },
      "source": [
        "a = 1\n",
        "b = 2\n",
        "if a>1 or b>1:\n",
        "  print(f'{a} o {b} es mayor que 1')\n",
        "else:\n",
        "  print(f'Ni {a}, ni {b} son mayores que 1')"
      ],
      "execution_count": null,
      "outputs": [
        {
          "output_type": "stream",
          "name": "stdout",
          "text": [
            "1 o 2 es mayor que 1\n"
          ]
        }
      ]
    },
    {
      "cell_type": "markdown",
      "metadata": {
        "id": "2mA8YT2qtMF0"
      },
      "source": [
        "## Bucles"
      ]
    },
    {
      "cell_type": "markdown",
      "metadata": {
        "id": "zxCxn9m4tQIQ"
      },
      "source": [
        "### for"
      ]
    },
    {
      "cell_type": "code",
      "metadata": {
        "id": "OvP8-ZPHtRkf"
      },
      "source": [
        "lista = ['uno','dos','tres','tres']\n",
        "for i in lista:\n",
        "  print(i)\n",
        "\n",
        "for i in range(len(lista)):\n",
        "  print(f'{i} {lista[i]}')"
      ],
      "execution_count": null,
      "outputs": []
    },
    {
      "cell_type": "code",
      "metadata": {
        "id": "_z_mYLiDh1uw"
      },
      "source": [
        "for i in range(3):\n",
        "  print(i)"
      ],
      "execution_count": null,
      "outputs": []
    },
    {
      "cell_type": "markdown",
      "metadata": {
        "id": "sNkiuXTbt3kQ"
      },
      "source": [
        "### while"
      ]
    },
    {
      "cell_type": "code",
      "metadata": {
        "id": "zgHR5yW-t9FA"
      },
      "source": [
        "i = 0\n",
        "while i < 5:\n",
        "    print(i)\n",
        "    i += 1"
      ],
      "execution_count": null,
      "outputs": []
    },
    {
      "cell_type": "markdown",
      "metadata": {
        "id": "YxG9bRlY39YL"
      },
      "source": [
        "---\n",
        "\n",
        "# Resumen"
      ]
    },
    {
      "cell_type": "markdown",
      "metadata": {
        "id": "H5ESNcU23_e-"
      },
      "source": [
        "* Introducción general al lenguaje **Python**\n",
        "* Ejemplos sobre operaciones básicas y estructuras.\n",
        "* Ejemplos básicos de **código** Python (variables, tipos, condiciones, bucles).\n",
        "\n"
      ]
    }
  ]
}